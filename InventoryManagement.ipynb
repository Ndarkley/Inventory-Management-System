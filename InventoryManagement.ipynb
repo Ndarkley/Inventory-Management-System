{
 "cells": [
  {
   "cell_type": "code",
   "execution_count": 4,
   "id": "082b7c04-a802-425f-b7e9-0a20ba7e5755",
   "metadata": {},
   "outputs": [
    {
     "name": "stdout",
     "output_type": "stream",
     "text": [
      "\n",
      "Inventory Management System\n",
      "1. Add item\n",
      "2. Delete item\n",
      "3. View items\n",
      "4. Exit\n"
     ]
    },
    {
     "name": "stdin",
     "output_type": "stream",
     "text": [
      "Enter your choice:  3\n"
     ]
    },
    {
     "name": "stdout",
     "output_type": "stream",
     "text": [
      "\n",
      "Current inventory:\n",
      "Name: Airpods, Quantity: 3, Price: $199.0\n",
      "\n",
      "Inventory Management System\n",
      "1. Add item\n",
      "2. Delete item\n",
      "3. View items\n",
      "4. Exit\n"
     ]
    },
    {
     "name": "stdin",
     "output_type": "stream",
     "text": [
      "Enter your choice:  4\n"
     ]
    },
    {
     "name": "stdout",
     "output_type": "stream",
     "text": [
      "Exiting the system.\n"
     ]
    }
   ],
   "source": [
    "import os\n",
    "import json\n",
    "\n",
    "class Item:\n",
    "    def __init__(self, name, quantity, price):\n",
    "        self.name = name\n",
    "        self.quantity = quantity\n",
    "        self.price = price\n",
    "\n",
    "    def to_dict(self):\n",
    "        return {\"name\": self.name, \"quantity\": self.quantity, \"price\": self.price}\n",
    "\n",
    "\n",
    "\n",
    "class Inventory:\n",
    "    def __init__(self, filename=\"inventory.json\"):\n",
    "        self.filename = filename\n",
    "        self.items = self.load_inventory()\n",
    "\n",
    "    \n",
    "    def load_inventory(self):\n",
    "        if os.path.exists(self.filename):\n",
    "            with open(self.filename, 'r') as file:\n",
    "                return json.load(file)\n",
    "        return []\n",
    "\n",
    "    \n",
    "    def save_inventory(self):\n",
    "        with open(self.filename, 'w') as file:\n",
    "            json.dump(self.items, file, indent=4)\n",
    "\n",
    "    \n",
    "    def add_item(self, item):\n",
    "        self.items.append(item.to_dict())\n",
    "        self.save_inventory()\n",
    "        print(f\"Item '{item.name}' added successfully.\")\n",
    "\n",
    "    \n",
    "    def delete_item(self, item_name):\n",
    "        self.items = [item for item in self.items if item['name'] != item_name]\n",
    "        self.save_inventory()\n",
    "        print(f\"Item '{item_name}' deleted successfully.\")\n",
    "\n",
    "    \n",
    "    def view_items(self):\n",
    "        if not self.items:\n",
    "            print(\"Inventory is empty.\")\n",
    "        else:\n",
    "            print(\"\\nCurrent inventory:\")\n",
    "            for item in self.items:\n",
    "                print(f\"Name: {item['name']}, Quantity: {item['quantity']}, Price: ${item['price']}\")\n",
    "\n",
    "\n",
    "def main():\n",
    "    inventory = Inventory()\n",
    "\n",
    "    while True:\n",
    "        print(\"\\nInventory Management System\")\n",
    "        print(\"1. Add item\")\n",
    "        print(\"2. Delete item\")\n",
    "        print(\"3. View items\")\n",
    "        print(\"4. Exit\")\n",
    "\n",
    "        choice = input(\"Enter your choice: \")\n",
    "\n",
    "        if choice == '1':\n",
    "            name = input(\"Enter item name: \")\n",
    "            quantity = int(input(\"Enter quantity: \"))\n",
    "            price = float(input(\"Enter price: \"))\n",
    "            item = Item(name, quantity, price)\n",
    "            inventory.add_item(item)\n",
    "        elif choice == '2':\n",
    "            name = input(\"Enter the name of the item to delete: \")\n",
    "            inventory.delete_item(name)\n",
    "        elif choice == '3':\n",
    "            inventory.view_items()\n",
    "        elif choice == '4':\n",
    "            print(\"Exiting the system.\")\n",
    "            break\n",
    "        else:\n",
    "            print(\"Invalid choice. Please try again.\")\n",
    "\n",
    "\n",
    "if __name__ == \"__main__\":\n",
    "    main()"
   ]
  },
  {
   "cell_type": "code",
   "execution_count": null,
   "id": "6d73c529-9196-46f2-a774-0ffb0a34709f",
   "metadata": {},
   "outputs": [],
   "source": []
  }
 ],
 "metadata": {
  "kernelspec": {
   "display_name": "Python 3 (ipykernel)",
   "language": "python",
   "name": "python3"
  },
  "language_info": {
   "codemirror_mode": {
    "name": "ipython",
    "version": 3
   },
   "file_extension": ".py",
   "mimetype": "text/x-python",
   "name": "python",
   "nbconvert_exporter": "python",
   "pygments_lexer": "ipython3",
   "version": "3.12.2"
  }
 },
 "nbformat": 4,
 "nbformat_minor": 5
}
